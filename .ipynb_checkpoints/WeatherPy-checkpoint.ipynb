{
 "cells": [
  {
   "cell_type": "code",
   "execution_count": null,
   "metadata": {},
   "outputs": [],
   "source": [
    "#Description:\n",
    "#   Python APIs Homework using Pandas Library and Jupyter Notebook. \n",
    "#   Objective is to build a series of scatter plots to showcase specified relationships.    \n",
    "#\n",
    "#Modification History:\n",
    "#   DD-MMM-YYY  Author          Description\n",
    "#   03-07-2019  Stacey Smith    INITIAL CREATION\n",
    "\n",
    "\n",
    "\n",
    "#Written description of three observable trends based on the data:\n",
    "#   **NOTE**  these observations are made based on cities randomly pulled when the cities list was generated.\n",
    "#   If the cities list is generated again, there's no guarantee the resulting data will demonstrate the same trends.  \n",
    "#\n",
    "#   1.  Most cities are experiencing temps over 50 degrees.\n",
    "#   2.  Right now, it's far more humid in the Northern Hemisphere than in the Southern Hemisphere.\n",
    "#   3.  Rigth now, the Southern Hemisphere is less cloudy than the Northern Hemisphere. "
   ]
  },
  {
   "cell_type": "markdown",
   "metadata": {},
   "source": [
    "# WeatherPy\n",
    "----\n",
    "\n",
    "#### Note\n",
    "* Instructions have been included for each segment. You do not have to follow them exactly, but they are included to help you think through the steps."
   ]
  },
  {
   "cell_type": "code",
   "execution_count": null,
   "metadata": {
    "scrolled": true
   },
   "outputs": [],
   "source": [
    "# Dependencies and Setup\n",
    "import matplotlib.pyplot as plt\n",
    "import pandas as pd\n",
    "import numpy as np\n",
    "import requests\n",
    "import time\n",
    "import csv\n",
    "\n",
    "from pprint import pprint\n",
    "\n",
    "# Import API key\n",
    "from api_keys import api_key\n",
    "\n",
    "# Incorporated citipy to determine city based on latitude and longitude\n",
    "from citipy import citipy\n",
    "\n",
    "# Output File (CSV)\n",
    "output_data_file = \"output_data/cities.csv\"\n",
    "\n",
    "# Range of latitudes and longitudes\n",
    "lat_range = (-90, 90)\n",
    "lng_range = (-180, 180)"
   ]
  },
  {
   "cell_type": "markdown",
   "metadata": {},
   "source": [
    "## Generate Cities List"
   ]
  },
  {
   "cell_type": "code",
   "execution_count": null,
   "metadata": {},
   "outputs": [],
   "source": [
    "# List for holding lat_lngs and cities\n",
    "lat_lngs = []\n",
    "cities = []\n",
    "\n",
    "# Create a set of random lat and lng combinations\n",
    "lats = np.random.uniform(low=-90.000, high=90.000, size=1500)\n",
    "lngs = np.random.uniform(low=-180.000, high=180.000, size=1500)\n",
    "lat_lngs = zip(lats, lngs)\n",
    "\n",
    "# Identify nearest city for each lat, lng combination\n",
    "for lat_lng in lat_lngs:\n",
    "    city = citipy.nearest_city(lat_lng[0], lat_lng[1]).city_name\n",
    "    \n",
    "    # If the city is unique, then add it to a our cities list\n",
    "    if city not in cities:\n",
    "        cities.append(city)\n",
    "\n",
    "# Print the city count to confirm sufficient count\n",
    "len(cities)"
   ]
  },
  {
   "cell_type": "markdown",
   "metadata": {},
   "source": [
    "### Perform API Calls\n",
    "* Perform a weather check on each city using a series of successive API calls.\n",
    "* Include a print log of each city as it'sbeing processed (with the city number and city name).\n"
   ]
  },
  {
   "cell_type": "code",
   "execution_count": null,
   "metadata": {},
   "outputs": [],
   "source": [
    "#Set up the query url for openweathermap.org\n",
    "\n",
    "query_url = \"http://api.openweathermap.org/data/2.5/weather?\" + \"appid=\" + api_key + \"&units=imperial\" + \"&q=\"\n"
   ]
  },
  {
   "cell_type": "code",
   "execution_count": null,
   "metadata": {},
   "outputs": [],
   "source": [
    "#Build the list of cities with weather data\n",
    "#\n",
    "#Using try/except to iterate through the json before building the lists \n",
    "#to remove all of the 404s/values that are messing up my data\n",
    "#\n",
    "#Included a print log of each city as it's being processed with the city id and city name\n",
    "\n",
    "\n",
    "names = []\n",
    "city_id = []\n",
    "coord_lat = []\n",
    "main_temp_max = [] \n",
    "main_humidity = []\n",
    "clouds = []\n",
    "wind_speed = []\n",
    "weather_response = []\n",
    "\n",
    "for city in cities:\n",
    "    weather = requests.get(query_url + city).json()\n",
    "    \n",
    "    try:\n",
    "        names.append(weather['name'])\n",
    "        city_id.append(weather['id'])\n",
    "        coord_lat.append(weather['coord']['lat'])\n",
    "        main_temp_max.append(weather['main']['temp_max'])\n",
    "        main_humidity.append(weather['main']['humidity'])\n",
    "        clouds.append(weather['clouds']['all'])\n",
    "        wind_speed.append(weather['wind']['speed'])\n",
    "        #break\n",
    "        print(f\" Currently processing ID {weather['id']}:  {weather['name']}\")\n",
    "    except (KeyError):\n",
    "        print(\"Skipping over a value we don't want.\")\n",
    "    \n",
    "    \n",
    "    \n",
    "#pprint(names)"
   ]
  },
  {
   "cell_type": "markdown",
   "metadata": {},
   "source": [
    "### Convert Raw Data to DataFrame\n",
    "* Export the city data into a .csv.\n",
    "* Display the DataFrame"
   ]
  },
  {
   "cell_type": "code",
   "execution_count": null,
   "metadata": {},
   "outputs": [],
   "source": [
    "#Create the dataframe, export it to a csv file, and then show the first five records\n",
    "\n",
    "weather_df = pd.DataFrame(list(zip(names, city_id, coord_lat, main_temp_max, main_humidity, clouds, wind_speed)), \n",
    "                          columns = [\n",
    "                              \n",
    "                              'City',\n",
    "                              'City ID',\n",
    "                              'Latitude',\n",
    "                              'Max Temp',\n",
    "                              'Humidity',\n",
    "                              'Cloudiness',\n",
    "                              'Wind Speed']) \n",
    "\n",
    "\n",
    "weather_df.to_csv(\"output_data/cities.csv\")\n",
    "\n",
    "weather_df.head()"
   ]
  },
  {
   "cell_type": "code",
   "execution_count": null,
   "metadata": {},
   "outputs": [],
   "source": [
    "#Create all the vars I need for my scatter plots\n",
    "\n",
    "#weather_df.dtypes\n",
    "\n",
    "city = weather_df['City']\n",
    "lat = weather_df['Latitude']\n",
    "maxtemp = weather_df['Max Temp']\n",
    "humidity = weather_df['Humidity']\n",
    "cloudiness = weather_df['Cloudiness']\n",
    "windspeed = weather_df['Wind Speed']\n",
    "\n"
   ]
  },
  {
   "cell_type": "markdown",
   "metadata": {},
   "source": [
    "### Plotting the Data\n",
    "* Use proper labeling of the plots using plot titles (including date of analysis) and axes labels.\n",
    "* Save the plotted figures as .pngs."
   ]
  },
  {
   "cell_type": "markdown",
   "metadata": {},
   "source": [
    "#### Latitude vs. Temperature Plot"
   ]
  },
  {
   "cell_type": "code",
   "execution_count": null,
   "metadata": {},
   "outputs": [],
   "source": [
    "#Build the scatter plot \n",
    "plt.scatter(lat, maxtemp, marker=\"o\", facecolors=\"blue\", edgecolors=\"black\", alpha=0.75, label='MaxTemp') \n",
    "\n",
    "\n",
    "#Incorporate the other graph properties\n",
    "plt.grid()\n",
    "\n",
    "plt.xlim(left=-80, right=100)\n",
    "plt.ylim(bottom=-100, top=150)\n",
    "\n",
    "plt.xlabel(\"Latitude\")\n",
    "plt.ylabel(\"Max Temperature (F)\")\n",
    "plt.title(\"City Latitude vs. Max Temperature (07/08/19)\")\n",
    "\n",
    "#Save Figure\n",
    "plt.savefig(\"Images/LatitudevsMaxTemp.png\", bbox_inches=\"tight\")\n",
    "\n",
    "#Show plot\n",
    "plt.show()"
   ]
  },
  {
   "cell_type": "markdown",
   "metadata": {},
   "source": [
    "#### Latitude vs. Humidity Plot"
   ]
  },
  {
   "cell_type": "code",
   "execution_count": null,
   "metadata": {},
   "outputs": [],
   "source": [
    "#Build the scatter plot\n",
    "plt.scatter(lat, humidity, marker=\"o\", facecolors=\"blue\", edgecolors=\"black\", alpha=0.75, label='Humidity') \n",
    "\n",
    "\n",
    "#Incorporate the other graph properties\n",
    "plt.grid()\n",
    "\n",
    "plt.xlim(left=-80, right=100)\n",
    "plt.ylim(bottom=-20, top=120)\n",
    "\n",
    "plt.xlabel(\"Latitude\")\n",
    "plt.ylabel(\"Humidity (%)\")\n",
    "plt.title(\"City Latitude vs. Humidity (07/08/19)\")\n",
    "\n",
    "#Save Figure\n",
    "plt.savefig(\"Images/LatitudevsHumidity.png\", bbox_inches=\"tight\")\n",
    "\n",
    "#Show plot\n",
    "plt.show()"
   ]
  },
  {
   "cell_type": "markdown",
   "metadata": {},
   "source": [
    "#### Latitude vs. Cloudiness Plot"
   ]
  },
  {
   "cell_type": "code",
   "execution_count": null,
   "metadata": {},
   "outputs": [],
   "source": [
    "#Build the scatter plot\n",
    "plt.scatter(lat, cloudiness, marker=\"o\", facecolors=\"blue\", edgecolors=\"black\", alpha=0.75, label='Cloudiness') \n",
    "\n",
    "\n",
    "#Incorporate the other graph properties\n",
    "plt.grid()\n",
    "\n",
    "plt.xlim(left=-80, right=100)\n",
    "plt.ylim(bottom=-20, top=120)\n",
    "\n",
    "plt.xlabel(\"Latitude\")\n",
    "plt.ylabel(\"Cloudiness (%)\")\n",
    "plt.title(\"City Latitude vs. Cloudiness (07/08/19)\")\n",
    "\n",
    "#Save Figure\n",
    "plt.savefig(\"Images/LatitudevsCloudiness.png\", bbox_inches=\"tight\")\n",
    "\n",
    "#Show plot\n",
    "plt.show()"
   ]
  },
  {
   "cell_type": "markdown",
   "metadata": {},
   "source": [
    "#### Latitude vs. Wind Speed Plot"
   ]
  },
  {
   "cell_type": "code",
   "execution_count": null,
   "metadata": {},
   "outputs": [],
   "source": [
    "#Build the scatter plot\n",
    "plt.scatter(lat, wind_speed, marker=\"o\", facecolors=\"blue\", edgecolors=\"black\", alpha=0.75, label='Wind Speed') \n",
    "\n",
    "\n",
    "#Incorporate the other graph properties\n",
    "plt.grid()\n",
    "\n",
    "plt.xlim(left=-80, right=100)\n",
    "plt.ylim(bottom=-5, top=40)\n",
    "\n",
    "plt.xlabel(\"Latitude\")\n",
    "plt.ylabel(\"Wind Speed (mph)\")\n",
    "plt.title(\"City Latitude vs. Wind Speed (07/08/19)\")\n",
    "\n",
    "#Save Figure\n",
    "plt.savefig(\"Images/LatitudevsWindSpeed.png\", bbox_inches=\"tight\")\n",
    "\n",
    "#Show plot\n",
    "plt.show()"
   ]
  },
  {
   "cell_type": "code",
   "execution_count": null,
   "metadata": {},
   "outputs": [],
   "source": []
  }
 ],
 "metadata": {
  "anaconda-cloud": {},
  "kernel_info": {
   "name": "python3"
  },
  "kernelspec": {
   "display_name": "Python 3",
   "language": "python",
   "name": "python3"
  },
  "language_info": {
   "codemirror_mode": {
    "name": "ipython",
    "version": 3
   },
   "file_extension": ".py",
   "mimetype": "text/x-python",
   "name": "python",
   "nbconvert_exporter": "python",
   "pygments_lexer": "ipython3",
   "version": "3.7.3"
  },
  "nteract": {
   "version": "0.12.3"
  }
 },
 "nbformat": 4,
 "nbformat_minor": 2
}
